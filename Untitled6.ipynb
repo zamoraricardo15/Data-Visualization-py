{
 "cells": [
  {
   "cell_type": "code",
   "execution_count": 10,
   "id": "65f3de7f",
   "metadata": {},
   "outputs": [
    {
     "name": "stdout",
     "output_type": "stream",
     "text": [
      "Requirement already satisfied: osmnx in c:\\users\\rzamoram\\appdata\\local\\continuum\\anaconda3\\lib\\site-packages (1.0.1)\n",
      "Requirement already satisfied: Rtree>=0.9 in c:\\users\\rzamoram\\appdata\\local\\continuum\\anaconda3\\lib\\site-packages (from osmnx) (0.9.4)\n",
      "Requirement already satisfied: numpy>=1.19 in c:\\users\\rzamoram\\appdata\\local\\continuum\\anaconda3\\lib\\site-packages (from osmnx) (1.19.2)\n",
      "Requirement already satisfied: Shapely>=1.7 in c:\\users\\rzamoram\\appdata\\local\\continuum\\anaconda3\\lib\\site-packages (from osmnx) (1.7.1)\n",
      "Requirement already satisfied: networkx>=2.5 in c:\\users\\rzamoram\\appdata\\local\\continuum\\anaconda3\\lib\\site-packages (from osmnx) (2.5.1)\n",
      "Requirement already satisfied: requests>=2.25 in c:\\users\\rzamoram\\appdata\\local\\continuum\\anaconda3\\lib\\site-packages (from osmnx) (2.25.1)\n",
      "Requirement already satisfied: descartes>=1.1 in c:\\users\\rzamoram\\appdata\\local\\continuum\\anaconda3\\lib\\site-packages (from osmnx) (1.1.0)\n",
      "Requirement already satisfied: matplotlib>=3.3 in c:\\users\\rzamoram\\appdata\\local\\continuum\\anaconda3\\lib\\site-packages (from osmnx) (3.3.4)\n",
      "Requirement already satisfied: pyproj>=2.6 in c:\\users\\rzamoram\\appdata\\local\\continuum\\anaconda3\\lib\\site-packages (from osmnx) (3.0.1)\n",
      "Requirement already satisfied: geopandas>=0.8 in c:\\users\\rzamoram\\appdata\\local\\continuum\\anaconda3\\lib\\site-packages (from osmnx) (0.9.0)\n",
      "Requirement already satisfied: pandas>=1.1 in c:\\users\\rzamoram\\appdata\\local\\continuum\\anaconda3\\lib\\site-packages (from osmnx) (1.2.3)\n",
      "Requirement already satisfied: fiona>=1.8 in c:\\users\\rzamoram\\appdata\\local\\continuum\\anaconda3\\lib\\site-packages (from geopandas>=0.8->osmnx) (1.8.4)\n",
      "Requirement already satisfied: attrs>=17 in c:\\users\\rzamoram\\appdata\\local\\continuum\\anaconda3\\lib\\site-packages (from fiona>=1.8->geopandas>=0.8->osmnx) (20.3.0)\n",
      "Requirement already satisfied: click<8,>=4.0 in c:\\users\\rzamoram\\appdata\\local\\continuum\\anaconda3\\lib\\site-packages (from fiona>=1.8->geopandas>=0.8->osmnx) (7.1.2)\n",
      "Requirement already satisfied: cligj>=0.5 in c:\\users\\rzamoram\\appdata\\local\\continuum\\anaconda3\\lib\\site-packages (from fiona>=1.8->geopandas>=0.8->osmnx) (0.7.1)\n",
      "Requirement already satisfied: click-plugins>=1.0 in c:\\users\\rzamoram\\appdata\\local\\continuum\\anaconda3\\lib\\site-packages (from fiona>=1.8->geopandas>=0.8->osmnx) (1.1.1)\n",
      "Requirement already satisfied: six>=1.7 in c:\\users\\rzamoram\\appdata\\local\\continuum\\anaconda3\\lib\\site-packages (from fiona>=1.8->geopandas>=0.8->osmnx) (1.15.0)\n",
      "Requirement already satisfied: munch in c:\\users\\rzamoram\\appdata\\local\\continuum\\anaconda3\\lib\\site-packages (from fiona>=1.8->geopandas>=0.8->osmnx) (2.5.0)\n",
      "Requirement already satisfied: pyparsing!=2.0.4,!=2.1.2,!=2.1.6,>=2.0.3 in c:\\users\\rzamoram\\appdata\\local\\continuum\\anaconda3\\lib\\site-packages (from matplotlib>=3.3->osmnx) (2.4.7)\n",
      "Requirement already satisfied: python-dateutil>=2.1 in c:\\users\\rzamoram\\appdata\\local\\continuum\\anaconda3\\lib\\site-packages (from matplotlib>=3.3->osmnx) (2.8.1)\n",
      "Requirement already satisfied: cycler>=0.10 in c:\\users\\rzamoram\\appdata\\local\\continuum\\anaconda3\\lib\\site-packages (from matplotlib>=3.3->osmnx) (0.10.0)\n",
      "Requirement already satisfied: pillow>=6.2.0 in c:\\users\\rzamoram\\appdata\\local\\continuum\\anaconda3\\lib\\site-packages (from matplotlib>=3.3->osmnx) (8.2.0)\n",
      "Requirement already satisfied: kiwisolver>=1.0.1 in c:\\users\\rzamoram\\appdata\\local\\continuum\\anaconda3\\lib\\site-packages (from matplotlib>=3.3->osmnx) (1.3.1)\n",
      "Requirement already satisfied: decorator<5,>=4.3 in c:\\users\\rzamoram\\appdata\\local\\continuum\\anaconda3\\lib\\site-packages (from networkx>=2.5->osmnx) (4.4.2)\n",
      "Requirement already satisfied: pytz>=2017.3 in c:\\users\\rzamoram\\appdata\\local\\continuum\\anaconda3\\lib\\site-packages (from pandas>=1.1->osmnx) (2021.1)\n",
      "Requirement already satisfied: certifi in c:\\users\\rzamoram\\appdata\\local\\continuum\\anaconda3\\lib\\site-packages (from pyproj>=2.6->osmnx) (2020.12.5)\n",
      "Requirement already satisfied: chardet<5,>=3.0.2 in c:\\users\\rzamoram\\appdata\\local\\continuum\\anaconda3\\lib\\site-packages (from requests>=2.25->osmnx) (4.0.0)\n",
      "Requirement already satisfied: urllib3<1.27,>=1.21.1 in c:\\users\\rzamoram\\appdata\\local\\continuum\\anaconda3\\lib\\site-packages (from requests>=2.25->osmnx) (1.26.4)\n",
      "Requirement already satisfied: idna<3,>=2.5 in c:\\users\\rzamoram\\appdata\\local\\continuum\\anaconda3\\lib\\site-packages (from requests>=2.25->osmnx) (2.10)\n",
      "Requirement already satisfied: setuptools in c:\\users\\rzamoram\\appdata\\local\\continuum\\anaconda3\\lib\\site-packages (from Rtree>=0.9->osmnx) (52.0.0.post20210125)\n"
     ]
    }
   ],
   "source": [
    "!pip install osmnx"
   ]
  },
  {
   "cell_type": "code",
   "execution_count": 11,
   "id": "1720ce37",
   "metadata": {},
   "outputs": [
    {
     "name": "stdout",
     "output_type": "stream",
     "text": [
      "Requirement already satisfied: pyproj in c:\\users\\rzamoram\\appdata\\local\\continuum\\anaconda3\\lib\\site-packages (3.0.1)\n",
      "Requirement already satisfied: certifi in c:\\users\\rzamoram\\appdata\\local\\continuum\\anaconda3\\lib\\site-packages (from pyproj) (2020.12.5)\n"
     ]
    }
   ],
   "source": [
    "!pip install pyproj"
   ]
  },
  {
   "cell_type": "code",
   "execution_count": 13,
   "id": "fda32a3b",
   "metadata": {},
   "outputs": [
    {
     "ename": "ImportError",
     "evalue": "cannot import name 'CRS' from 'pyproj' (C:\\Users\\rzamoram\\AppData\\Local\\Continuum\\anaconda3\\lib\\site-packages\\pyproj\\__init__.py)",
     "output_type": "error",
     "traceback": [
      "\u001b[1;31m---------------------------------------------------------------------------\u001b[0m",
      "\u001b[1;31mImportError\u001b[0m                               Traceback (most recent call last)",
      "\u001b[1;32m<ipython-input-13-0c243a1c70be>\u001b[0m in \u001b[0;36m<module>\u001b[1;34m\u001b[0m\n\u001b[1;32m----> 1\u001b[1;33m \u001b[1;32mimport\u001b[0m \u001b[0mosmnx\u001b[0m \u001b[1;32mas\u001b[0m \u001b[0mox\u001b[0m\u001b[1;33m\u001b[0m\u001b[1;33m\u001b[0m\u001b[0m\n\u001b[0m\u001b[0;32m      2\u001b[0m \u001b[1;32mimport\u001b[0m \u001b[0mnumpy\u001b[0m \u001b[1;32mas\u001b[0m \u001b[0mnp\u001b[0m\u001b[1;33m\u001b[0m\u001b[1;33m\u001b[0m\u001b[0m\n",
      "\u001b[1;32m~\\AppData\\Local\\Continuum\\anaconda3\\lib\\site-packages\\osmnx\\__init__.py\u001b[0m in \u001b[0;36m<module>\u001b[1;34m\u001b[0m\n\u001b[0;32m      1\u001b[0m \u001b[1;34m\"\"\"OSMnx init.\"\"\"\u001b[0m\u001b[1;33m\u001b[0m\u001b[1;33m\u001b[0m\u001b[0m\n\u001b[0;32m      2\u001b[0m \u001b[1;33m\u001b[0m\u001b[0m\n\u001b[1;32m----> 3\u001b[1;33m \u001b[1;32mfrom\u001b[0m \u001b[1;33m.\u001b[0m\u001b[0m_api\u001b[0m \u001b[1;32mimport\u001b[0m \u001b[1;33m*\u001b[0m\u001b[1;33m\u001b[0m\u001b[1;33m\u001b[0m\u001b[0m\n\u001b[0m\u001b[0;32m      4\u001b[0m \u001b[1;32mfrom\u001b[0m \u001b[1;33m.\u001b[0m\u001b[0m_version\u001b[0m \u001b[1;32mimport\u001b[0m \u001b[0m__version__\u001b[0m\u001b[1;33m\u001b[0m\u001b[1;33m\u001b[0m\u001b[0m\n",
      "\u001b[1;32m~\\AppData\\Local\\Continuum\\anaconda3\\lib\\site-packages\\osmnx\\_api.py\u001b[0m in \u001b[0;36m<module>\u001b[1;34m\u001b[0m\n\u001b[0;32m      2\u001b[0m \u001b[1;33m\u001b[0m\u001b[0m\n\u001b[0;32m      3\u001b[0m \u001b[1;32mfrom\u001b[0m \u001b[1;33m.\u001b[0m\u001b[0mbearing\u001b[0m \u001b[1;32mimport\u001b[0m \u001b[0madd_edge_bearings\u001b[0m\u001b[1;33m\u001b[0m\u001b[1;33m\u001b[0m\u001b[0m\n\u001b[1;32m----> 4\u001b[1;33m \u001b[1;32mfrom\u001b[0m \u001b[1;33m.\u001b[0m\u001b[0mdistance\u001b[0m \u001b[1;32mimport\u001b[0m \u001b[0mget_nearest_edge\u001b[0m\u001b[1;33m\u001b[0m\u001b[1;33m\u001b[0m\u001b[0m\n\u001b[0m\u001b[0;32m      5\u001b[0m \u001b[1;32mfrom\u001b[0m \u001b[1;33m.\u001b[0m\u001b[0mdistance\u001b[0m \u001b[1;32mimport\u001b[0m \u001b[0mget_nearest_edges\u001b[0m\u001b[1;33m\u001b[0m\u001b[1;33m\u001b[0m\u001b[0m\n\u001b[0;32m      6\u001b[0m \u001b[1;32mfrom\u001b[0m \u001b[1;33m.\u001b[0m\u001b[0mdistance\u001b[0m \u001b[1;32mimport\u001b[0m \u001b[0mget_nearest_node\u001b[0m\u001b[1;33m\u001b[0m\u001b[1;33m\u001b[0m\u001b[0m\n",
      "\u001b[1;32m~\\AppData\\Local\\Continuum\\anaconda3\\lib\\site-packages\\osmnx\\distance.py\u001b[0m in \u001b[0;36m<module>\u001b[1;34m\u001b[0m\n\u001b[0;32m      9\u001b[0m \u001b[1;33m\u001b[0m\u001b[0m\n\u001b[0;32m     10\u001b[0m \u001b[1;32mfrom\u001b[0m \u001b[1;33m.\u001b[0m \u001b[1;32mimport\u001b[0m \u001b[0mutils\u001b[0m\u001b[1;33m\u001b[0m\u001b[1;33m\u001b[0m\u001b[0m\n\u001b[1;32m---> 11\u001b[1;33m \u001b[1;32mfrom\u001b[0m \u001b[1;33m.\u001b[0m \u001b[1;32mimport\u001b[0m \u001b[0mutils_geo\u001b[0m\u001b[1;33m\u001b[0m\u001b[1;33m\u001b[0m\u001b[0m\n\u001b[0m\u001b[0;32m     12\u001b[0m \u001b[1;32mfrom\u001b[0m \u001b[1;33m.\u001b[0m \u001b[1;32mimport\u001b[0m \u001b[0mutils_graph\u001b[0m\u001b[1;33m\u001b[0m\u001b[1;33m\u001b[0m\u001b[0m\n\u001b[0;32m     13\u001b[0m \u001b[1;33m\u001b[0m\u001b[0m\n",
      "\u001b[1;32m~\\AppData\\Local\\Continuum\\anaconda3\\lib\\site-packages\\osmnx\\utils_geo.py\u001b[0m in \u001b[0;36m<module>\u001b[1;34m\u001b[0m\n\u001b[0;32m     12\u001b[0m \u001b[1;32mfrom\u001b[0m \u001b[0mshapely\u001b[0m\u001b[1;33m.\u001b[0m\u001b[0mops\u001b[0m \u001b[1;32mimport\u001b[0m \u001b[0msplit\u001b[0m\u001b[1;33m\u001b[0m\u001b[1;33m\u001b[0m\u001b[0m\n\u001b[0;32m     13\u001b[0m \u001b[1;33m\u001b[0m\u001b[0m\n\u001b[1;32m---> 14\u001b[1;33m \u001b[1;32mfrom\u001b[0m \u001b[1;33m.\u001b[0m \u001b[1;32mimport\u001b[0m \u001b[0mprojection\u001b[0m\u001b[1;33m\u001b[0m\u001b[1;33m\u001b[0m\u001b[0m\n\u001b[0m\u001b[0;32m     15\u001b[0m \u001b[1;32mfrom\u001b[0m \u001b[1;33m.\u001b[0m \u001b[1;32mimport\u001b[0m \u001b[0msettings\u001b[0m\u001b[1;33m\u001b[0m\u001b[1;33m\u001b[0m\u001b[0m\n\u001b[0;32m     16\u001b[0m \u001b[1;32mfrom\u001b[0m \u001b[1;33m.\u001b[0m \u001b[1;32mimport\u001b[0m \u001b[0mutils\u001b[0m\u001b[1;33m\u001b[0m\u001b[1;33m\u001b[0m\u001b[0m\n",
      "\u001b[1;32m~\\AppData\\Local\\Continuum\\anaconda3\\lib\\site-packages\\osmnx\\projection.py\u001b[0m in \u001b[0;36m<module>\u001b[1;34m\u001b[0m\n\u001b[0;32m      3\u001b[0m \u001b[1;32mimport\u001b[0m \u001b[0mmath\u001b[0m\u001b[1;33m\u001b[0m\u001b[1;33m\u001b[0m\u001b[0m\n\u001b[0;32m      4\u001b[0m \u001b[1;33m\u001b[0m\u001b[0m\n\u001b[1;32m----> 5\u001b[1;33m \u001b[1;32mimport\u001b[0m \u001b[0mgeopandas\u001b[0m \u001b[1;32mas\u001b[0m \u001b[0mgpd\u001b[0m\u001b[1;33m\u001b[0m\u001b[1;33m\u001b[0m\u001b[0m\n\u001b[0m\u001b[0;32m      6\u001b[0m \u001b[1;32mfrom\u001b[0m \u001b[0mpyproj\u001b[0m \u001b[1;32mimport\u001b[0m \u001b[0mCRS\u001b[0m\u001b[1;33m\u001b[0m\u001b[1;33m\u001b[0m\u001b[0m\n\u001b[0;32m      7\u001b[0m \u001b[1;33m\u001b[0m\u001b[0m\n",
      "\u001b[1;32m~\\AppData\\Local\\Continuum\\anaconda3\\lib\\site-packages\\geopandas\\__init__.py\u001b[0m in \u001b[0;36m<module>\u001b[1;34m\u001b[0m\n\u001b[0;32m      1\u001b[0m \u001b[1;32mfrom\u001b[0m \u001b[0mgeopandas\u001b[0m\u001b[1;33m.\u001b[0m\u001b[0m_config\u001b[0m \u001b[1;32mimport\u001b[0m \u001b[0moptions\u001b[0m  \u001b[1;31m# noqa\u001b[0m\u001b[1;33m\u001b[0m\u001b[1;33m\u001b[0m\u001b[0m\n\u001b[0;32m      2\u001b[0m \u001b[1;33m\u001b[0m\u001b[0m\n\u001b[1;32m----> 3\u001b[1;33m \u001b[1;32mfrom\u001b[0m \u001b[0mgeopandas\u001b[0m\u001b[1;33m.\u001b[0m\u001b[0mgeoseries\u001b[0m \u001b[1;32mimport\u001b[0m \u001b[0mGeoSeries\u001b[0m  \u001b[1;31m# noqa\u001b[0m\u001b[1;33m\u001b[0m\u001b[1;33m\u001b[0m\u001b[0m\n\u001b[0m\u001b[0;32m      4\u001b[0m \u001b[1;32mfrom\u001b[0m \u001b[0mgeopandas\u001b[0m\u001b[1;33m.\u001b[0m\u001b[0mgeodataframe\u001b[0m \u001b[1;32mimport\u001b[0m \u001b[0mGeoDataFrame\u001b[0m  \u001b[1;31m# noqa\u001b[0m\u001b[1;33m\u001b[0m\u001b[1;33m\u001b[0m\u001b[0m\n\u001b[0;32m      5\u001b[0m \u001b[1;32mfrom\u001b[0m \u001b[0mgeopandas\u001b[0m\u001b[1;33m.\u001b[0m\u001b[0marray\u001b[0m \u001b[1;32mimport\u001b[0m \u001b[0mpoints_from_xy\u001b[0m  \u001b[1;31m# noqa\u001b[0m\u001b[1;33m\u001b[0m\u001b[1;33m\u001b[0m\u001b[0m\n",
      "\u001b[1;32m~\\AppData\\Local\\Continuum\\anaconda3\\lib\\site-packages\\geopandas\\geoseries.py\u001b[0m in \u001b[0;36m<module>\u001b[1;34m\u001b[0m\n\u001b[0;32m      7\u001b[0m \u001b[1;32mfrom\u001b[0m \u001b[0mpandas\u001b[0m\u001b[1;33m.\u001b[0m\u001b[0mcore\u001b[0m\u001b[1;33m.\u001b[0m\u001b[0minternals\u001b[0m \u001b[1;32mimport\u001b[0m \u001b[0mSingleBlockManager\u001b[0m\u001b[1;33m\u001b[0m\u001b[1;33m\u001b[0m\u001b[0m\n\u001b[0;32m      8\u001b[0m \u001b[1;33m\u001b[0m\u001b[0m\n\u001b[1;32m----> 9\u001b[1;33m \u001b[1;32mfrom\u001b[0m \u001b[0mpyproj\u001b[0m \u001b[1;32mimport\u001b[0m \u001b[0mCRS\u001b[0m\u001b[1;33m\u001b[0m\u001b[1;33m\u001b[0m\u001b[0m\n\u001b[0m\u001b[0;32m     10\u001b[0m \u001b[1;32mfrom\u001b[0m \u001b[0mshapely\u001b[0m\u001b[1;33m.\u001b[0m\u001b[0mgeometry\u001b[0m\u001b[1;33m.\u001b[0m\u001b[0mbase\u001b[0m \u001b[1;32mimport\u001b[0m \u001b[0mBaseGeometry\u001b[0m\u001b[1;33m\u001b[0m\u001b[1;33m\u001b[0m\u001b[0m\n\u001b[0;32m     11\u001b[0m \u001b[1;33m\u001b[0m\u001b[0m\n",
      "\u001b[1;31mImportError\u001b[0m: cannot import name 'CRS' from 'pyproj' (C:\\Users\\rzamoram\\AppData\\Local\\Continuum\\anaconda3\\lib\\site-packages\\pyproj\\__init__.py)"
     ]
    }
   ],
   "source": [
    "import osmnx as ox\n",
    "import numpy as np"
   ]
  },
  {
   "cell_type": "code",
   "execution_count": 8,
   "id": "6d575064",
   "metadata": {},
   "outputs": [
    {
     "name": "stdout",
     "output_type": "stream",
     "text": [
      "Requirement already satisfied: pyproj in c:\\users\\rzamoram\\appdata\\local\\continuum\\anaconda3\\lib\\site-packages (1.9.6)\n",
      "Collecting pyproj\n",
      "  Downloading pyproj-3.0.1-cp37-cp37m-win_amd64.whl (14.4 MB)\n",
      "Requirement already satisfied: psutil in c:\\users\\rzamoram\\appdata\\local\\continuum\\anaconda3\\lib\\site-packages (5.8.0)\n",
      "Requirement already satisfied: certifi in c:\\users\\rzamoram\\appdata\\local\\continuum\\anaconda3\\lib\\site-packages (from pyproj) (2020.12.5)\n",
      "Installing collected packages: pyproj\n",
      "  Attempting uninstall: pyproj\n",
      "    Found existing installation: pyproj 1.9.6\n",
      "    Uninstalling pyproj-1.9.6:\n",
      "      Successfully uninstalled pyproj-1.9.6\n"
     ]
    },
    {
     "name": "stderr",
     "output_type": "stream",
     "text": [
      "ERROR: Could not install packages due to an OSError: [WinError 5] Access is denied: 'c:\\\\users\\\\rzamoram\\\\appdata\\\\local\\\\continuum\\\\anaconda3\\\\lib\\\\site-packages\\\\~yproj\\\\_proj.cp37-win_amd64.pyd'\n",
      "Consider using the `--user` option or check the permissions.\n",
      "\n"
     ]
    }
   ],
   "source": [
    "!pip3 install -U pyproj psutil"
   ]
  },
  {
   "cell_type": "code",
   "execution_count": null,
   "id": "7f626abd",
   "metadata": {},
   "outputs": [],
   "source": []
  }
 ],
 "metadata": {
  "kernelspec": {
   "display_name": "Python 3",
   "language": "python",
   "name": "python3"
  },
  "language_info": {
   "codemirror_mode": {
    "name": "ipython",
    "version": 3
   },
   "file_extension": ".py",
   "mimetype": "text/x-python",
   "name": "python",
   "nbconvert_exporter": "python",
   "pygments_lexer": "ipython3",
   "version": "3.7.4"
  }
 },
 "nbformat": 4,
 "nbformat_minor": 5
}
