{
 "cells": [
  {
   "cell_type": "markdown",
   "id": "e25ca044",
   "metadata": {},
   "source": [
    "#Tarea 3\n",
    "#Ricardo Zamora Mennigke\n",
    "# Visualizacion"
   ]
  },
  {
   "cell_type": "markdown",
   "id": "1e236e6d",
   "metadata": {},
   "source": [
    "1. [50 puntos] Utilizando las bibliotecas osmxn y folium realice lo siguiente:\n",
    "a) Identifique la ubicaci´on de las sucursales bancarias del Banco Nacional, Banco de Costa\n",
    "Rica, Banco Popular y BAC a lo largo del territorio de Costa Rica.\n",
    "b) Utilizando la biblioteca folium cree un mapa interactivo que permita ver las diferentes\n",
    "sucursales bancarias diferenciadas por su color.\n",
    "c) Utilizando la biblioteca folium cree un mapa interactivo que permita ver la cantidad de\n",
    "sucursales bancarias en cada uno de los cantones.\n",
    "d) Realice una interptetaci´on de los resultados obtenidos."
   ]
  },
  {
   "cell_type": "code",
   "execution_count": 4,
   "id": "a3fd699e",
   "metadata": {},
   "outputs": [
    {
     "name": "stderr",
     "output_type": "stream",
     "text": [
      "WARNING: Retrying (Retry(total=4, connect=None, read=None, redirect=None, status=None)) after connection broken by 'ConnectTimeoutError(<pip._vendor.urllib3.connection.HTTPSConnection object at 0x000001E7FB032108>, 'Connection to pypi.org timed out. (connect timeout=15)')': /simple/osmnx/\n",
      "WARNING: Retrying (Retry(total=3, connect=None, read=None, redirect=None, status=None)) after connection broken by 'ConnectTimeoutError(<pip._vendor.urllib3.connection.HTTPSConnection object at 0x000001E7FB000E08>, 'Connection to pypi.org timed out. (connect timeout=15)')': /simple/osmnx/\n",
      "WARNING: Retrying (Retry(total=2, connect=None, read=None, redirect=None, status=None)) after connection broken by 'ConnectTimeoutError(<pip._vendor.urllib3.connection.HTTPSConnection object at 0x000001E7FB08E0C8>, 'Connection to pypi.org timed out. (connect timeout=15)')': /simple/osmnx/\n",
      "WARNING: Retrying (Retry(total=1, connect=None, read=None, redirect=None, status=None)) after connection broken by 'ConnectTimeoutError(<pip._vendor.urllib3.connection.HTTPSConnection object at 0x000001E7FB08E788>, 'Connection to pypi.org timed out. (connect timeout=15)')': /simple/osmnx/\n",
      "WARNING: Retrying (Retry(total=0, connect=None, read=None, redirect=None, status=None)) after connection broken by 'ConnectTimeoutError(<pip._vendor.urllib3.connection.HTTPSConnection object at 0x000001E7FB08EEC8>, 'Connection to pypi.org timed out. (connect timeout=15)')': /simple/osmnx/\n",
      "ERROR: Could not find a version that satisfies the requirement osmnx\n",
      "ERROR: No matching distribution found for osmnx\n"
     ]
    }
   ],
   "source": [
    "!pip install osmnx"
   ]
  },
  {
   "cell_type": "code",
   "execution_count": 3,
   "id": "44760e9b",
   "metadata": {},
   "outputs": [
    {
     "ename": "ModuleNotFoundError",
     "evalue": "No module named 'osmnx'",
     "output_type": "error",
     "traceback": [
      "\u001b[1;31m---------------------------------------------------------------------------\u001b[0m",
      "\u001b[1;31mModuleNotFoundError\u001b[0m                       Traceback (most recent call last)",
      "\u001b[1;32m<ipython-input-3-0c243a1c70be>\u001b[0m in \u001b[0;36m<module>\u001b[1;34m\u001b[0m\n\u001b[1;32m----> 1\u001b[1;33m \u001b[1;32mimport\u001b[0m \u001b[0mosmnx\u001b[0m \u001b[1;32mas\u001b[0m \u001b[0mox\u001b[0m\u001b[1;33m\u001b[0m\u001b[1;33m\u001b[0m\u001b[0m\n\u001b[0m\u001b[0;32m      2\u001b[0m \u001b[1;32mimport\u001b[0m \u001b[0mnumpy\u001b[0m \u001b[1;32mas\u001b[0m \u001b[0mnp\u001b[0m\u001b[1;33m\u001b[0m\u001b[1;33m\u001b[0m\u001b[0m\n",
      "\u001b[1;31mModuleNotFoundError\u001b[0m: No module named 'osmnx'"
     ]
    }
   ],
   "source": [
    "import osmnx as ox\n",
    "import numpy as np"
   ]
  },
  {
   "cell_type": "code",
   "execution_count": null,
   "id": "891f1906",
   "metadata": {},
   "outputs": [],
   "source": []
  }
 ],
 "metadata": {
  "kernelspec": {
   "display_name": "Python 3",
   "language": "python",
   "name": "python3"
  },
  "language_info": {
   "codemirror_mode": {
    "name": "ipython",
    "version": 3
   },
   "file_extension": ".py",
   "mimetype": "text/x-python",
   "name": "python",
   "nbconvert_exporter": "python",
   "pygments_lexer": "ipython3",
   "version": "3.7.10"
  }
 },
 "nbformat": 4,
 "nbformat_minor": 5
}
