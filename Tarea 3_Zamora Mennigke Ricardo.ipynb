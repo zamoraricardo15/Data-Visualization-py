{
 "cells": [
  {
   "cell_type": "code",
   "execution_count": 1,
   "id": "6955c682",
   "metadata": {},
   "outputs": [],
   "source": [
    "import osmnx as ox\n",
    "import numpy as np"
   ]
  },
  {
   "cell_type": "code",
   "execution_count": 2,
   "id": "35828be4",
   "metadata": {},
   "outputs": [],
   "source": [
    "import pandas as pd\n",
    "import geopandas as gp"
   ]
  },
  {
   "cell_type": "code",
   "execution_count": 3,
   "id": "c55466ea",
   "metadata": {},
   "outputs": [
    {
     "data": {
      "text/plain": [
       "Index(['unique_id', 'osmid', 'element_type', 'amenity', 'name', 'geometry',\n",
       "       'addr:city', 'addr:street', 'atm', 'phone', 'name:es', 'nodes', 'brand',\n",
       "       'brand:en', 'brand:es', 'brand:wikidata', 'brand:wikipedia', 'building',\n",
       "       'name:en', 'official_name', 'official_name:en', 'official_name:es',\n",
       "       'short_name', 'source', 'drive_through', 'opening_hours', 'operator',\n",
       "       'website', 'addr:full', 'area', 'alt_name', 'level', 'note',\n",
       "       'addr:postcode', 'building:levels', 'construction', 'fixme',\n",
       "       'designation', 'fee', 'name:de', 'ele', 'addr:housename', 'int_name',\n",
       "       'wheelchair', 'name:it', 'source_1', 'operator:wikidata',\n",
       "       'operator:wikipedia', 'addr:place', 'indoor', 'addr:local', 'parts',\n",
       "       'email', 'buildingpart', 'height', 'phone_1', 'phone_2', 'ways', 'type',\n",
       "       'is_in', 'addr:suburb', 'description', 'addr:housenumber', 'landuse',\n",
       "       'cajero', 'shop', 'building:colour', 'roof:colour', 'air_conditioning',\n",
       "       'amenity_1', 'alt_name:en', 'alt_name:es', 'highway'],\n",
       "      dtype='object')"
      ]
     },
     "metadata": {},
     "output_type": "display_data"
    }
   ],
   "source": [
    "region1 = \"Costa Rica\"\n",
    "etiquetas1 = {'amenity':\"bank\"}\n",
    "resultado1 = ox.geometries_from_place(query = region1, tags = etiquetas1)\n",
    "display(resultado1.columns)"
   ]
  },
  {
   "cell_type": "code",
   "execution_count": 4,
   "id": "fdd2dee4",
   "metadata": {},
   "outputs": [
    {
     "name": "stderr",
     "output_type": "stream",
     "text": [
      "C:\\Users\\rzamoram\\AppData\\Local\\Continuum\\anaconda3\\envs\\py37ox\\lib\\site-packages\\ipykernel\\ipkernel.py:287: DeprecationWarning: `should_run_async` will not call `transform_cell` automatically in the future. Please pass the result to `transformed_cell` argument and any exception that happen during thetransform in `preprocessing_exc_tuple` in IPython 7.17 and above.\n",
      "  and should_run_async(code)\n"
     ]
    }
   ],
   "source": [
    "bancos1 = resultado1[[\"name\",\"geometry\"]]\n",
    "bancos1 = bancos1.dropna()\n",
    "bancos_bn = bancos1[bancos1.name.str.match('^Banco Nacional')]\n",
    "bancos_bcr = bancos1[bancos1.name.str.match('^Banco de Costa Rica')]\n",
    "bancos_bp = bancos1[bancos1.name.str.match('^Banco Popular')]\n",
    "bancos_bac = bancos1[bancos1.name.str.match('^BAC')]"
   ]
  },
  {
   "cell_type": "code",
   "execution_count": 5,
   "id": "75d8c8ab",
   "metadata": {},
   "outputs": [
    {
     "name": "stderr",
     "output_type": "stream",
     "text": [
      "C:\\Users\\rzamoram\\AppData\\Local\\Continuum\\anaconda3\\envs\\py37ox\\lib\\site-packages\\ipykernel\\ipkernel.py:287: DeprecationWarning: `should_run_async` will not call `transform_cell` automatically in the future. Please pass the result to `transformed_cell` argument and any exception that happen during thetransform in `preprocessing_exc_tuple` in IPython 7.17 and above.\n",
      "  and should_run_async(code)\n",
      "C:\\Users\\rzamoram\\AppData\\Local\\Continuum\\anaconda3\\envs\\py37ox\\lib\\site-packages\\geopandas\\geodataframe.py:1322: SettingWithCopyWarning: \n",
      "A value is trying to be set on a copy of a slice from a DataFrame.\n",
      "Try using .loc[row_indexer,col_indexer] = value instead\n",
      "\n",
      "See the caveats in the documentation: https://pandas.pydata.org/pandas-docs/stable/user_guide/indexing.html#returning-a-view-versus-a-copy\n",
      "  super(GeoDataFrame, self).__setitem__(key, value)\n",
      "C:\\Users\\rzamoram\\AppData\\Local\\Continuum\\anaconda3\\envs\\py37ox\\lib\\site-packages\\ipykernel_launcher.py:10: UserWarning: Geometry is in a geographic CRS. Results from 'centroid' are likely incorrect. Use 'GeoSeries.to_crs()' to re-project geometries to a projected CRS before this operation.\n",
      "\n",
      "  # Remove the CWD from sys.path while we load stuff.\n",
      "C:\\Users\\rzamoram\\AppData\\Local\\Continuum\\anaconda3\\envs\\py37ox\\lib\\site-packages\\ipykernel_launcher.py:11: UserWarning: Geometry is in a geographic CRS. Results from 'centroid' are likely incorrect. Use 'GeoSeries.to_crs()' to re-project geometries to a projected CRS before this operation.\n",
      "\n",
      "  # This is added back by InteractiveShellApp.init_path()\n"
     ]
    },
    {
     "data": {
      "text/html": [
       "<div>\n",
       "<style scoped>\n",
       "    .dataframe tbody tr th:only-of-type {\n",
       "        vertical-align: middle;\n",
       "    }\n",
       "\n",
       "    .dataframe tbody tr th {\n",
       "        vertical-align: top;\n",
       "    }\n",
       "\n",
       "    .dataframe thead th {\n",
       "        text-align: right;\n",
       "    }\n",
       "</style>\n",
       "<table border=\"1\" class=\"dataframe\">\n",
       "  <thead>\n",
       "    <tr style=\"text-align: right;\">\n",
       "      <th></th>\n",
       "      <th>name</th>\n",
       "      <th>x</th>\n",
       "      <th>y</th>\n",
       "    </tr>\n",
       "  </thead>\n",
       "  <tbody>\n",
       "    <tr>\n",
       "      <th>5</th>\n",
       "      <td>Banco Nacional</td>\n",
       "      <td>-85.629489</td>\n",
       "      <td>11.070238</td>\n",
       "    </tr>\n",
       "    <tr>\n",
       "      <th>10</th>\n",
       "      <td>Banco Nacional</td>\n",
       "      <td>-85.695239</td>\n",
       "      <td>10.547340</td>\n",
       "    </tr>\n",
       "    <tr>\n",
       "      <th>12</th>\n",
       "      <td>Banco Nacional</td>\n",
       "      <td>-85.552203</td>\n",
       "      <td>10.445051</td>\n",
       "    </tr>\n",
       "    <tr>\n",
       "      <th>18</th>\n",
       "      <td>Banco Nacional</td>\n",
       "      <td>-85.781695</td>\n",
       "      <td>10.435656</td>\n",
       "    </tr>\n",
       "    <tr>\n",
       "      <th>28</th>\n",
       "      <td>Banco Nacional</td>\n",
       "      <td>-85.586820</td>\n",
       "      <td>10.267494</td>\n",
       "    </tr>\n",
       "    <tr>\n",
       "      <th>30</th>\n",
       "      <td>Banco Nacional</td>\n",
       "      <td>-85.839514</td>\n",
       "      <td>10.296936</td>\n",
       "    </tr>\n",
       "    <tr>\n",
       "      <th>57</th>\n",
       "      <td>Banco Nacional</td>\n",
       "      <td>-85.440634</td>\n",
       "      <td>10.628847</td>\n",
       "    </tr>\n",
       "    <tr>\n",
       "      <th>71</th>\n",
       "      <td>Banco Nacional</td>\n",
       "      <td>-85.255454</td>\n",
       "      <td>10.526186</td>\n",
       "    </tr>\n",
       "    <tr>\n",
       "      <th>79</th>\n",
       "      <td>Banco Nacional</td>\n",
       "      <td>-85.451839</td>\n",
       "      <td>10.145019</td>\n",
       "    </tr>\n",
       "    <tr>\n",
       "      <th>91</th>\n",
       "      <td>Banco Nacional</td>\n",
       "      <td>-85.528888</td>\n",
       "      <td>9.882536</td>\n",
       "    </tr>\n",
       "    <tr>\n",
       "      <th>108</th>\n",
       "      <td>Banco Nacional</td>\n",
       "      <td>-84.821709</td>\n",
       "      <td>10.669061</td>\n",
       "    </tr>\n",
       "    <tr>\n",
       "      <th>111</th>\n",
       "      <td>Banco Nacional</td>\n",
       "      <td>-85.091362</td>\n",
       "      <td>10.427036</td>\n",
       "    </tr>\n",
       "    <tr>\n",
       "      <th>114</th>\n",
       "      <td>Banco Nacional</td>\n",
       "      <td>-84.968444</td>\n",
       "      <td>10.469605</td>\n",
       "    </tr>\n",
       "    <tr>\n",
       "      <th>133</th>\n",
       "      <td>Banco Nacional</td>\n",
       "      <td>-84.720780</td>\n",
       "      <td>9.983245</td>\n",
       "    </tr>\n",
       "    <tr>\n",
       "      <th>137</th>\n",
       "      <td>Banco Nacional</td>\n",
       "      <td>-84.832643</td>\n",
       "      <td>9.979764</td>\n",
       "    </tr>\n",
       "  </tbody>\n",
       "</table>\n",
       "</div>"
      ],
      "text/plain": [
       "               name          x          y\n",
       "5    Banco Nacional -85.629489  11.070238\n",
       "10   Banco Nacional -85.695239  10.547340\n",
       "12   Banco Nacional -85.552203  10.445051\n",
       "18   Banco Nacional -85.781695  10.435656\n",
       "28   Banco Nacional -85.586820  10.267494\n",
       "30   Banco Nacional -85.839514  10.296936\n",
       "57   Banco Nacional -85.440634  10.628847\n",
       "71   Banco Nacional -85.255454  10.526186\n",
       "79   Banco Nacional -85.451839  10.145019\n",
       "91   Banco Nacional -85.528888   9.882536\n",
       "108  Banco Nacional -84.821709  10.669061\n",
       "111  Banco Nacional -85.091362  10.427036\n",
       "114  Banco Nacional -84.968444  10.469605\n",
       "133  Banco Nacional -84.720780   9.983245\n",
       "137  Banco Nacional -84.832643   9.979764"
      ]
     },
     "execution_count": 5,
     "metadata": {},
     "output_type": "execute_result"
    }
   ],
   "source": [
    "resultado2 = pd.concat([bancos_bn,bancos_bcr,bancos_bp,bancos_bac])\n",
    "bancos_point = resultado2[[True if geometry.__class__.__name__ == \"Point\" else False for geometry in resultado2.geometry]]\n",
    "bancos_point[[\"name\",\"geometry\"]].head(17)\n",
    "bancos_point['x'] = bancos_point['geometry'].x\n",
    "bancos_point['y'] = bancos_point['geometry'].y\n",
    "bancos_point[[\"name\", \"x\",\"y\"]].head(15)\n",
    "bancos_point[[\"name\", \"x\",\"y\"]].head(15)\n",
    "bancos_polygon = resultado2[[True if geometry.__class__.__name__ == \"Polygon\" else False for geometry in resultado2.geometry]]\n",
    "bancos_polygon[[\"name\",\"geometry\"]].head(15)\n",
    "bancos_polygon[\"x\"] = bancos_polygon.centroid.x\n",
    "bancos_polygon[\"y\"] = bancos_polygon.centroid.y\n",
    "bancos_polygon[[\"name\", \"x\",\"y\"]].head(15)"
   ]
  },
  {
   "cell_type": "code",
   "execution_count": 6,
   "id": "1083591c",
   "metadata": {},
   "outputs": [
    {
     "name": "stderr",
     "output_type": "stream",
     "text": [
      "C:\\Users\\rzamoram\\AppData\\Local\\Continuum\\anaconda3\\envs\\py37ox\\lib\\site-packages\\ipykernel\\ipkernel.py:287: DeprecationWarning: `should_run_async` will not call `transform_cell` automatically in the future. Please pass the result to `transformed_cell` argument and any exception that happen during thetransform in `preprocessing_exc_tuple` in IPython 7.17 and above.\n",
      "  and should_run_async(code)\n"
     ]
    },
    {
     "data": {
      "text/html": [
       "<div>\n",
       "<style scoped>\n",
       "    .dataframe tbody tr th:only-of-type {\n",
       "        vertical-align: middle;\n",
       "    }\n",
       "\n",
       "    .dataframe tbody tr th {\n",
       "        vertical-align: top;\n",
       "    }\n",
       "\n",
       "    .dataframe thead th {\n",
       "        text-align: right;\n",
       "    }\n",
       "</style>\n",
       "<table border=\"1\" class=\"dataframe\">\n",
       "  <thead>\n",
       "    <tr style=\"text-align: right;\">\n",
       "      <th></th>\n",
       "      <th>name</th>\n",
       "      <th>x</th>\n",
       "      <th>y</th>\n",
       "      <th>geometry</th>\n",
       "    </tr>\n",
       "  </thead>\n",
       "  <tbody>\n",
       "    <tr>\n",
       "      <th>22</th>\n",
       "      <td>Banco Nacional</td>\n",
       "      <td>-85.841135</td>\n",
       "      <td>10.299191</td>\n",
       "      <td>POINT (-85.84114 10.29919)</td>\n",
       "    </tr>\n",
       "    <tr>\n",
       "      <th>43</th>\n",
       "      <td>Banco Nacional</td>\n",
       "      <td>-85.169051</td>\n",
       "      <td>10.823264</td>\n",
       "      <td>POINT (-85.16905 10.82326)</td>\n",
       "    </tr>\n",
       "    <tr>\n",
       "      <th>55</th>\n",
       "      <td>Banco Nacional</td>\n",
       "      <td>-85.199647</td>\n",
       "      <td>10.672757</td>\n",
       "      <td>POINT (-85.19965 10.67276)</td>\n",
       "    </tr>\n",
       "    <tr>\n",
       "      <th>76</th>\n",
       "      <td>Banco Nacional</td>\n",
       "      <td>-85.418235</td>\n",
       "      <td>10.057437</td>\n",
       "      <td>POINT (-85.41824 10.05744)</td>\n",
       "    </tr>\n",
       "    <tr>\n",
       "      <th>77</th>\n",
       "      <td>Banco Nacional</td>\n",
       "      <td>-85.253555</td>\n",
       "      <td>9.993134</td>\n",
       "      <td>POINT (-85.25355 9.99313)</td>\n",
       "    </tr>\n",
       "    <tr>\n",
       "      <th>...</th>\n",
       "      <td>...</td>\n",
       "      <td>...</td>\n",
       "      <td>...</td>\n",
       "      <td>...</td>\n",
       "    </tr>\n",
       "    <tr>\n",
       "      <th>667</th>\n",
       "      <td>BAC Credomatic</td>\n",
       "      <td>-84.149845</td>\n",
       "      <td>9.931021</td>\n",
       "      <td>POLYGON ((-84.14990 9.93085, -84.14994 9.93119...</td>\n",
       "    </tr>\n",
       "    <tr>\n",
       "      <th>711</th>\n",
       "      <td>BAC Credomatic</td>\n",
       "      <td>-84.078999</td>\n",
       "      <td>9.933351</td>\n",
       "      <td>POLYGON ((-84.07907 9.93345, -84.07908 9.93326...</td>\n",
       "    </tr>\n",
       "    <tr>\n",
       "      <th>727</th>\n",
       "      <td>BAC Credomatic Quepos</td>\n",
       "      <td>-84.163490</td>\n",
       "      <td>9.430134</td>\n",
       "      <td>POLYGON ((-84.16356 9.43012, -84.16357 9.43003...</td>\n",
       "    </tr>\n",
       "    <tr>\n",
       "      <th>730</th>\n",
       "      <td>BAC Credomatic</td>\n",
       "      <td>-84.164200</td>\n",
       "      <td>9.430294</td>\n",
       "      <td>POLYGON ((-84.16416 9.43027, -84.16417 9.43025...</td>\n",
       "    </tr>\n",
       "    <tr>\n",
       "      <th>814</th>\n",
       "      <td>BAC Credomatic Pérez Zeledón</td>\n",
       "      <td>-83.704597</td>\n",
       "      <td>9.369870</td>\n",
       "      <td>POLYGON ((-83.70475 9.36989, -83.70472 9.36997...</td>\n",
       "    </tr>\n",
       "  </tbody>\n",
       "</table>\n",
       "<p>457 rows × 4 columns</p>\n",
       "</div>"
      ],
      "text/plain": [
       "                             name          x          y  \\\n",
       "22                 Banco Nacional -85.841135  10.299191   \n",
       "43                 Banco Nacional -85.169051  10.823264   \n",
       "55                 Banco Nacional -85.199647  10.672757   \n",
       "76                 Banco Nacional -85.418235  10.057437   \n",
       "77                 Banco Nacional -85.253555   9.993134   \n",
       "..                            ...        ...        ...   \n",
       "667                BAC Credomatic -84.149845   9.931021   \n",
       "711                BAC Credomatic -84.078999   9.933351   \n",
       "727         BAC Credomatic Quepos -84.163490   9.430134   \n",
       "730                BAC Credomatic -84.164200   9.430294   \n",
       "814  BAC Credomatic Pérez Zeledón -83.704597   9.369870   \n",
       "\n",
       "                                              geometry  \n",
       "22                          POINT (-85.84114 10.29919)  \n",
       "43                          POINT (-85.16905 10.82326)  \n",
       "55                          POINT (-85.19965 10.67276)  \n",
       "76                          POINT (-85.41824 10.05744)  \n",
       "77                           POINT (-85.25355 9.99313)  \n",
       "..                                                 ...  \n",
       "667  POLYGON ((-84.14990 9.93085, -84.14994 9.93119...  \n",
       "711  POLYGON ((-84.07907 9.93345, -84.07908 9.93326...  \n",
       "727  POLYGON ((-84.16356 9.43012, -84.16357 9.43003...  \n",
       "730  POLYGON ((-84.16416 9.43027, -84.16417 9.43025...  \n",
       "814  POLYGON ((-83.70475 9.36989, -83.70472 9.36997...  \n",
       "\n",
       "[457 rows x 4 columns]"
      ]
     },
     "execution_count": 6,
     "metadata": {},
     "output_type": "execute_result"
    }
   ],
   "source": [
    "bancos2 = bancos_point.append(bancos_polygon)\n",
    "bancos2 = bancos2[[\"name\",\"x\",\"y\",\"geometry\"]]\n",
    "bancos2"
   ]
  },
  {
   "cell_type": "code",
   "execution_count": 7,
   "id": "62379b26",
   "metadata": {},
   "outputs": [
    {
     "name": "stderr",
     "output_type": "stream",
     "text": [
      "C:\\Users\\rzamoram\\AppData\\Local\\Continuum\\anaconda3\\envs\\py37ox\\lib\\site-packages\\ipykernel\\ipkernel.py:287: DeprecationWarning: `should_run_async` will not call `transform_cell` automatically in the future. Please pass the result to `transformed_cell` argument and any exception that happen during thetransform in `preprocessing_exc_tuple` in IPython 7.17 and above.\n",
      "  and should_run_async(code)\n"
     ]
    },
    {
     "data": {
      "text/plain": [
       "<folium.raster_layers.TileLayer at 0x1d550e57488>"
      ]
     },
     "execution_count": 7,
     "metadata": {},
     "output_type": "execute_result"
    }
   ],
   "source": [
    "import folium\n",
    "m = folium.Map(location=[9.934598, -84.094154], zoom_start = 13)\n",
    "folium.TileLayer('CartoDB positron').add_to(m)"
   ]
  },
  {
   "cell_type": "code",
   "execution_count": 8,
   "id": "60775c3e",
   "metadata": {},
   "outputs": [
    {
     "ename": "NameError",
     "evalue": "name 'banco2' is not defined",
     "output_type": "error",
     "traceback": [
      "\u001b[1;31m---------------------------------------------------------------------------\u001b[0m",
      "\u001b[1;31mNameError\u001b[0m                                 Traceback (most recent call last)",
      "\u001b[1;32m<ipython-input-8-8cb91db0ca48>\u001b[0m in \u001b[0;36m<module>\u001b[1;34m\u001b[0m\n\u001b[1;32m----> 1\u001b[1;33m \u001b[1;32mfor\u001b[0m \u001b[0mbanco\u001b[0m \u001b[1;32min\u001b[0m \u001b[0mbanco2\u001b[0m\u001b[1;33m.\u001b[0m\u001b[0mitertuples\u001b[0m\u001b[1;33m(\u001b[0m\u001b[1;33m)\u001b[0m\u001b[1;33m:\u001b[0m\u001b[1;33m\u001b[0m\u001b[1;33m\u001b[0m\u001b[0m\n\u001b[0m\u001b[0;32m      2\u001b[0m     \u001b[0mestilo\u001b[0m \u001b[1;33m=\u001b[0m \u001b[1;33m{\u001b[0m\u001b[1;34m'fillColor'\u001b[0m\u001b[1;33m:\u001b[0m \u001b[1;34m'#81b214'\u001b[0m\u001b[1;33m,\u001b[0m \u001b[1;34m'color'\u001b[0m\u001b[1;33m:\u001b[0m \u001b[1;34m'#81b214'\u001b[0m\u001b[1;33m}\u001b[0m\u001b[1;33m\u001b[0m\u001b[1;33m\u001b[0m\u001b[0m\n\u001b[0;32m      3\u001b[0m     \u001b[0medificio\u001b[0m \u001b[1;33m=\u001b[0m \u001b[0mfolium\u001b[0m\u001b[1;33m.\u001b[0m\u001b[0mGeoJson\u001b[0m\u001b[1;33m(\u001b[0m\u001b[0mdata\u001b[0m \u001b[1;33m=\u001b[0m \u001b[0mbanco\u001b[0m\u001b[1;33m.\u001b[0m\u001b[0mgeometry\u001b[0m\u001b[1;33m,\u001b[0m \u001b[0mstyle_function\u001b[0m \u001b[1;33m=\u001b[0m \u001b[1;32mlambda\u001b[0m \u001b[0mx\u001b[0m\u001b[1;33m:\u001b[0m\u001b[0mestilo\u001b[0m\u001b[1;33m)\u001b[0m\u001b[1;33m.\u001b[0m\u001b[0madd_to\u001b[0m\u001b[1;33m(\u001b[0m\u001b[0mm\u001b[0m\u001b[1;33m)\u001b[0m\u001b[1;33m\u001b[0m\u001b[1;33m\u001b[0m\u001b[0m\n\u001b[0;32m      4\u001b[0m     \u001b[0metiqueta\u001b[0m \u001b[1;33m=\u001b[0m \u001b[0mfolium\u001b[0m\u001b[1;33m.\u001b[0m\u001b[0mPopup\u001b[0m\u001b[1;33m(\u001b[0m\u001b[0mbanco\u001b[0m\u001b[1;33m.\u001b[0m\u001b[0mname\u001b[0m\u001b[1;33m)\u001b[0m\u001b[1;33m.\u001b[0m\u001b[0madd_to\u001b[0m\u001b[1;33m(\u001b[0m\u001b[0medificio\u001b[0m\u001b[1;33m)\u001b[0m\u001b[1;33m\u001b[0m\u001b[1;33m\u001b[0m\u001b[0m\n\u001b[0;32m      5\u001b[0m \u001b[0mm\u001b[0m\u001b[1;33m.\u001b[0m\u001b[0msave\u001b[0m\u001b[1;33m(\u001b[0m\u001b[1;34m\"mapa3.html\"\u001b[0m\u001b[1;33m)\u001b[0m\u001b[1;33m\u001b[0m\u001b[1;33m\u001b[0m\u001b[0m\n",
      "\u001b[1;31mNameError\u001b[0m: name 'banco2' is not defined"
     ]
    }
   ],
   "source": [
    "for banco in banco2.itertuples():\n",
    "    estilo = {'fillColor': '#81b214', 'color': '#81b214'}\n",
    "    edificio = folium.GeoJson(data = banco.geometry, style_function = lambda x:estilo).add_to(m)\n",
    "    etiqueta = folium.Popup(banco.name).add_to(edificio)\n",
    "m.save(\"mapa3.html\")"
   ]
  },
  {
   "cell_type": "code",
   "execution_count": 9,
   "id": "bde0a044",
   "metadata": {},
   "outputs": [
    {
     "ename": "NameError",
     "evalue": "name 'banco2' is not defined",
     "output_type": "error",
     "traceback": [
      "\u001b[1;31m---------------------------------------------------------------------------\u001b[0m",
      "\u001b[1;31mNameError\u001b[0m                                 Traceback (most recent call last)",
      "\u001b[1;32m<ipython-input-9-03318287b78f>\u001b[0m in \u001b[0;36m<module>\u001b[1;34m\u001b[0m\n\u001b[0;32m      6\u001b[0m }\n\u001b[0;32m      7\u001b[0m \u001b[1;33m\u001b[0m\u001b[0m\n\u001b[1;32m----> 8\u001b[1;33m \u001b[1;32mfor\u001b[0m \u001b[0mbanco\u001b[0m \u001b[1;32min\u001b[0m \u001b[0mbanco2\u001b[0m\u001b[1;33m.\u001b[0m\u001b[0mitertuples\u001b[0m\u001b[1;33m(\u001b[0m\u001b[1;33m)\u001b[0m\u001b[1;33m:\u001b[0m\u001b[1;33m\u001b[0m\u001b[1;33m\u001b[0m\u001b[0m\n\u001b[0m\u001b[0;32m      9\u001b[0m     \u001b[1;32mif\u001b[0m \u001b[0mbanco\u001b[0m\u001b[1;33m.\u001b[0m\u001b[0mname\u001b[0m \u001b[1;33m==\u001b[0m \u001b[1;34m'Banco Nacional'\u001b[0m\u001b[1;33m:\u001b[0m\u001b[1;33m\u001b[0m\u001b[1;33m\u001b[0m\u001b[0m\n\u001b[0;32m     10\u001b[0m         \u001b[0mestilo1\u001b[0m \u001b[1;33m=\u001b[0m \u001b[0mestilos\u001b[0m\u001b[1;33m[\u001b[0m\u001b[1;34m\"Banco Nacional\"\u001b[0m\u001b[1;33m]\u001b[0m\u001b[1;33m\u001b[0m\u001b[1;33m\u001b[0m\u001b[0m\n",
      "\u001b[1;31mNameError\u001b[0m: name 'banco2' is not defined"
     ]
    }
   ],
   "source": [
    "estilos = {\n",
    "  \"Banco Nacional\":{\"color\":\"yellow\", \"icon\":\"fa-credit-card\"},\n",
    "  \"Banco de Costa\":{\"color\":\"blue\", \"icon\":\"fa-credit-card\"},\n",
    "  \"Banco Popular\":{\"color\":\"orange\", \"icon\":\"fa-credit-card\"},\n",
    "  \"BAC\":{\"color\":\"red\", \"icon\":\"fa-credit-card\"}\n",
    "}\n",
    "\n",
    "for banco in banco2.itertuples():\n",
    "    if banco.name == 'Banco Nacional':\n",
    "        estilo1 = estilos[\"Banco Nacional\"]\n",
    "    elif banco.name == 'BAC':\n",
    "        estilo1 = estilos[\"BAC\"]\n",
    "    elif banco.name == 'Banco Popular':\n",
    "        estilo1 = estilos[\"Banco Popular\"]\n",
    "    elif banco.name == 'Banco de Costa':\n",
    "        estilo1 = estilos[\"Banco de Costa\"]\n",
    "    c = folium.Marker(location=[banco.y, banco.x], popup = banco.name,\n",
    "                    icon = folium.Icon(color = estilo1[\"color\"],\n",
    "                    icon_color = 'white')).add_to(m)\n",
    "\n",
    "m.save(\"mapa5.html\")"
   ]
  },
  {
   "cell_type": "code",
   "execution_count": null,
   "id": "4ef83a52",
   "metadata": {},
   "outputs": [],
   "source": []
  }
 ],
 "metadata": {
  "kernelspec": {
   "display_name": "Python 3",
   "language": "python",
   "name": "python3"
  },
  "language_info": {
   "codemirror_mode": {
    "name": "ipython",
    "version": 3
   },
   "file_extension": ".py",
   "mimetype": "text/x-python",
   "name": "python",
   "nbconvert_exporter": "python",
   "pygments_lexer": "ipython3",
   "version": "3.7.10"
  }
 },
 "nbformat": 4,
 "nbformat_minor": 5
}
