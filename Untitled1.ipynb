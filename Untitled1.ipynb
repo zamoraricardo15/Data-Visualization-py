{
 "cells": [
  {
   "cell_type": "markdown",
   "id": "0f9ace56",
   "metadata": {},
   "source": [
    "#Tarea 3\n",
    "#Ricardo Zamora Mennigke\n",
    "#Visualizacion"
   ]
  },
  {
   "cell_type": "markdown",
   "id": "0bd7c5c3",
   "metadata": {},
   "source": [
    "1. [50 puntos] Utilizando las bibliotecas osmxn y folium realice lo siguiente:\n",
    "a) Identifique la ubicaci´on de las sucursales bancarias del Banco Nacional, Banco de Costa\n",
    "Rica, Banco Popular y BAC a lo largo del territorio de Costa Rica.\n",
    "b) Utilizando la biblioteca folium cree un mapa interactivo que permita ver las diferentes\n",
    "sucursales bancarias diferenciadas por su color.\n",
    "c) Utilizando la biblioteca folium cree un mapa interactivo que permita ver la cantidad de\n",
    "sucursales bancarias en cada uno de los cantones.\n",
    "d) Realice una interptetaci´on de los resultados obtenidos."
   ]
  },
  {
   "cell_type": "code",
   "execution_count": 1,
   "id": "51b52fa6",
   "metadata": {},
   "outputs": [
    {
     "name": "stderr",
     "output_type": "stream",
     "text": [
      "WARNING: Retrying (Retry(total=4, connect=None, read=None, redirect=None, status=None)) after connection broken by 'ConnectTimeoutError(<pip._vendor.urllib3.connection.HTTPSConnection object at 0x0000022D6A8A22C8>, 'Connection to pypi.org timed out. (connect timeout=15)')': /simple/osmnx/\n",
      "WARNING: Retrying (Retry(total=3, connect=None, read=None, redirect=None, status=None)) after connection broken by 'ConnectTimeoutError(<pip._vendor.urllib3.connection.HTTPSConnection object at 0x0000022D6A870E08>, 'Connection to pypi.org timed out. (connect timeout=15)')': /simple/osmnx/\n",
      "WARNING: Retrying (Retry(total=2, connect=None, read=None, redirect=None, status=None)) after connection broken by 'ConnectTimeoutError(<pip._vendor.urllib3.connection.HTTPSConnection object at 0x0000022D6A8FE208>, 'Connection to pypi.org timed out. (connect timeout=15)')': /simple/osmnx/\n",
      "WARNING: Retrying (Retry(total=1, connect=None, read=None, redirect=None, status=None)) after connection broken by 'ConnectTimeoutError(<pip._vendor.urllib3.connection.HTTPSConnection object at 0x0000022D6A8FE8C8>, 'Connection to pypi.org timed out. (connect timeout=15)')': /simple/osmnx/\n",
      "WARNING: Retrying (Retry(total=0, connect=None, read=None, redirect=None, status=None)) after connection broken by 'ConnectTimeoutError(<pip._vendor.urllib3.connection.HTTPSConnection object at 0x0000022D6A903048>, 'Connection to pypi.org timed out. (connect timeout=15)')': /simple/osmnx/\n",
      "ERROR: Could not find a version that satisfies the requirement osmnx\n",
      "ERROR: No matching distribution found for osmnx\n"
     ]
    }
   ],
   "source": [
    "!pip install osmnx"
   ]
  },
  {
   "cell_type": "code",
   "execution_count": null,
   "id": "89465e5a",
   "metadata": {},
   "outputs": [],
   "source": []
  }
 ],
 "metadata": {
  "kernelspec": {
   "display_name": "Python 3",
   "language": "python",
   "name": "python3"
  },
  "language_info": {
   "codemirror_mode": {
    "name": "ipython",
    "version": 3
   },
   "file_extension": ".py",
   "mimetype": "text/x-python",
   "name": "python",
   "nbconvert_exporter": "python",
   "pygments_lexer": "ipython3",
   "version": "3.7.10"
  }
 },
 "nbformat": 4,
 "nbformat_minor": 5
}
